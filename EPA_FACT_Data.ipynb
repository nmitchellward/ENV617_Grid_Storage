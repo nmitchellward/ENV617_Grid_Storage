{
  "nbformat": 4,
  "nbformat_minor": 0,
  "metadata": {
    "colab": {
      "name": "EPA FACT Data",
      "provenance": [],
      "collapsed_sections": [],
      "include_colab_link": true
    },
    "kernelspec": {
      "name": "python3",
      "display_name": "Python 3"
    },
    "language_info": {
      "name": "python"
    }
  },
  "cells": [
    {
      "cell_type": "markdown",
      "metadata": {
        "id": "view-in-github",
        "colab_type": "text"
      },
      "source": [
        "<a href=\"https://colab.research.google.com/github/nmitchellward/ENV617_Grid_Storage/blob/main/EPA_FACT_Data.ipynb\" target=\"_parent\"><img src=\"https://colab.research.google.com/assets/colab-badge.svg\" alt=\"Open In Colab\"/></a>"
      ]
    },
    {
      "cell_type": "markdown",
      "metadata": {
        "id": "UtJ9rTA-kv7f"
      },
      "source": [
        "This notebook pulls hourly output and emissions data from the EPA's FACT database. This API allows us to access every electricity generating unit on file with the EPA. API documentation: https://dars.epa.gov/API/FACT/1.0/swagger/ui/#!/Emissions/EmissionsHourlyFuelDataCsvByOrisByLocationIdByYearByQuarterGet"
      ]
    },
    {
      "cell_type": "code",
      "metadata": {
        "id": "zSfDii2_gjTd",
        "colab": {
          "base_uri": "https://localhost:8080/"
        },
        "outputId": "fed42095-873c-4561-e696-183bd022ca6d"
      },
      "source": [
        "# Allows API Requests in Python\n",
        "import requests\n",
        "\n",
        "import pandas as pd\n",
        "import numpy as np\n",
        "\n",
        "import io\n",
        "\n",
        "from plotnine import *\n",
        "import plotnine\n",
        "\n",
        "from google.colab import auth\n",
        "from google.cloud.bigquery import magics\n",
        "\n",
        "# from google.colab import drive\n",
        "# drive.mount('drive')\n",
        "\n",
        "import json\n",
        "\n",
        "! pip install fsspec \n",
        "! pip install gcsfs"
      ],
      "execution_count": null,
      "outputs": [
        {
          "output_type": "stream",
          "name": "stdout",
          "text": [
            "Collecting fsspec\n",
            "  Downloading fsspec-2021.11.1-py3-none-any.whl (132 kB)\n",
            "\u001b[?25l\r\u001b[K     |██▌                             | 10 kB 23.4 MB/s eta 0:00:01\r\u001b[K     |█████                           | 20 kB 9.2 MB/s eta 0:00:01\r\u001b[K     |███████▍                        | 30 kB 8.4 MB/s eta 0:00:01\r\u001b[K     |█████████▉                      | 40 kB 7.6 MB/s eta 0:00:01\r\u001b[K     |████████████▎                   | 51 kB 4.2 MB/s eta 0:00:01\r\u001b[K     |██████████████▉                 | 61 kB 4.4 MB/s eta 0:00:01\r\u001b[K     |█████████████████▎              | 71 kB 4.8 MB/s eta 0:00:01\r\u001b[K     |███████████████████▊            | 81 kB 5.1 MB/s eta 0:00:01\r\u001b[K     |██████████████████████▏         | 92 kB 3.8 MB/s eta 0:00:01\r\u001b[K     |████████████████████████▋       | 102 kB 4.2 MB/s eta 0:00:01\r\u001b[K     |███████████████████████████     | 112 kB 4.2 MB/s eta 0:00:01\r\u001b[K     |█████████████████████████████▋  | 122 kB 4.2 MB/s eta 0:00:01\r\u001b[K     |████████████████████████████████| 132 kB 4.2 MB/s \n",
            "\u001b[?25hInstalling collected packages: fsspec\n",
            "Successfully installed fsspec-2021.11.1\n",
            "Collecting gcsfs\n",
            "  Downloading gcsfs-2021.11.1-py2.py3-none-any.whl (24 kB)\n",
            "Requirement already satisfied: google-auth>=1.2 in /usr/local/lib/python3.7/dist-packages (from gcsfs) (1.35.0)\n",
            "Requirement already satisfied: requests in /usr/local/lib/python3.7/dist-packages (from gcsfs) (2.23.0)\n",
            "Requirement already satisfied: decorator>4.1.2 in /usr/local/lib/python3.7/dist-packages (from gcsfs) (4.4.2)\n",
            "Requirement already satisfied: google-cloud-storage in /usr/local/lib/python3.7/dist-packages (from gcsfs) (1.18.1)\n",
            "Collecting aiohttp<4\n",
            "  Downloading aiohttp-3.8.1-cp37-cp37m-manylinux_2_5_x86_64.manylinux1_x86_64.manylinux_2_12_x86_64.manylinux2010_x86_64.whl (1.1 MB)\n",
            "\u001b[K     |████████████████████████████████| 1.1 MB 6.0 MB/s \n",
            "\u001b[?25hRequirement already satisfied: fsspec==2021.11.1 in /usr/local/lib/python3.7/dist-packages (from gcsfs) (2021.11.1)\n",
            "Requirement already satisfied: google-auth-oauthlib in /usr/local/lib/python3.7/dist-packages (from gcsfs) (0.4.6)\n",
            "Requirement already satisfied: attrs>=17.3.0 in /usr/local/lib/python3.7/dist-packages (from aiohttp<4->gcsfs) (21.2.0)\n",
            "Collecting async-timeout<5.0,>=4.0.0a3\n",
            "  Downloading async_timeout-4.0.1-py3-none-any.whl (5.7 kB)\n",
            "Collecting aiosignal>=1.1.2\n",
            "  Downloading aiosignal-1.2.0-py3-none-any.whl (8.2 kB)\n",
            "Collecting yarl<2.0,>=1.0\n",
            "  Downloading yarl-1.7.2-cp37-cp37m-manylinux_2_5_x86_64.manylinux1_x86_64.manylinux_2_12_x86_64.manylinux2010_x86_64.whl (271 kB)\n",
            "\u001b[K     |████████████████████████████████| 271 kB 56.6 MB/s \n",
            "\u001b[?25hCollecting multidict<7.0,>=4.5\n",
            "  Downloading multidict-5.2.0-cp37-cp37m-manylinux_2_5_x86_64.manylinux1_x86_64.manylinux_2_12_x86_64.manylinux2010_x86_64.whl (160 kB)\n",
            "\u001b[K     |████████████████████████████████| 160 kB 67.6 MB/s \n",
            "\u001b[?25hRequirement already satisfied: typing-extensions>=3.7.4 in /usr/local/lib/python3.7/dist-packages (from aiohttp<4->gcsfs) (3.10.0.2)\n",
            "Requirement already satisfied: charset-normalizer<3.0,>=2.0 in /usr/local/lib/python3.7/dist-packages (from aiohttp<4->gcsfs) (2.0.8)\n",
            "Collecting asynctest==0.13.0\n",
            "  Downloading asynctest-0.13.0-py3-none-any.whl (26 kB)\n",
            "Collecting frozenlist>=1.1.1\n",
            "  Downloading frozenlist-1.2.0-cp37-cp37m-manylinux_2_5_x86_64.manylinux1_x86_64.manylinux_2_12_x86_64.manylinux2010_x86_64.whl (192 kB)\n",
            "\u001b[K     |████████████████████████████████| 192 kB 69.5 MB/s \n",
            "\u001b[?25hRequirement already satisfied: setuptools>=40.3.0 in /usr/local/lib/python3.7/dist-packages (from google-auth>=1.2->gcsfs) (57.4.0)\n",
            "Requirement already satisfied: six>=1.9.0 in /usr/local/lib/python3.7/dist-packages (from google-auth>=1.2->gcsfs) (1.15.0)\n",
            "Requirement already satisfied: pyasn1-modules>=0.2.1 in /usr/local/lib/python3.7/dist-packages (from google-auth>=1.2->gcsfs) (0.2.8)\n",
            "Requirement already satisfied: cachetools<5.0,>=2.0.0 in /usr/local/lib/python3.7/dist-packages (from google-auth>=1.2->gcsfs) (4.2.4)\n",
            "Requirement already satisfied: rsa<5,>=3.1.4 in /usr/local/lib/python3.7/dist-packages (from google-auth>=1.2->gcsfs) (4.8)\n",
            "Requirement already satisfied: pyasn1<0.5.0,>=0.4.6 in /usr/local/lib/python3.7/dist-packages (from pyasn1-modules>=0.2.1->google-auth>=1.2->gcsfs) (0.4.8)\n",
            "Requirement already satisfied: idna>=2.0 in /usr/local/lib/python3.7/dist-packages (from yarl<2.0,>=1.0->aiohttp<4->gcsfs) (2.10)\n",
            "Requirement already satisfied: requests-oauthlib>=0.7.0 in /usr/local/lib/python3.7/dist-packages (from google-auth-oauthlib->gcsfs) (1.3.0)\n",
            "Requirement already satisfied: oauthlib>=3.0.0 in /usr/local/lib/python3.7/dist-packages (from requests-oauthlib>=0.7.0->google-auth-oauthlib->gcsfs) (3.1.1)\n",
            "Requirement already satisfied: certifi>=2017.4.17 in /usr/local/lib/python3.7/dist-packages (from requests->gcsfs) (2021.10.8)\n",
            "Requirement already satisfied: chardet<4,>=3.0.2 in /usr/local/lib/python3.7/dist-packages (from requests->gcsfs) (3.0.4)\n",
            "Requirement already satisfied: urllib3!=1.25.0,!=1.25.1,<1.26,>=1.21.1 in /usr/local/lib/python3.7/dist-packages (from requests->gcsfs) (1.24.3)\n",
            "Requirement already satisfied: google-resumable-media<0.5.0dev,>=0.3.1 in /usr/local/lib/python3.7/dist-packages (from google-cloud-storage->gcsfs) (0.4.1)\n",
            "Requirement already satisfied: google-cloud-core<2.0dev,>=1.0.0 in /usr/local/lib/python3.7/dist-packages (from google-cloud-storage->gcsfs) (1.0.3)\n",
            "Requirement already satisfied: google-api-core<2.0.0dev,>=1.14.0 in /usr/local/lib/python3.7/dist-packages (from google-cloud-core<2.0dev,>=1.0.0->google-cloud-storage->gcsfs) (1.26.3)\n",
            "Requirement already satisfied: packaging>=14.3 in /usr/local/lib/python3.7/dist-packages (from google-api-core<2.0.0dev,>=1.14.0->google-cloud-core<2.0dev,>=1.0.0->google-cloud-storage->gcsfs) (21.3)\n",
            "Requirement already satisfied: googleapis-common-protos<2.0dev,>=1.6.0 in /usr/local/lib/python3.7/dist-packages (from google-api-core<2.0.0dev,>=1.14.0->google-cloud-core<2.0dev,>=1.0.0->google-cloud-storage->gcsfs) (1.53.0)\n",
            "Requirement already satisfied: protobuf>=3.12.0 in /usr/local/lib/python3.7/dist-packages (from google-api-core<2.0.0dev,>=1.14.0->google-cloud-core<2.0dev,>=1.0.0->google-cloud-storage->gcsfs) (3.17.3)\n",
            "Requirement already satisfied: pytz in /usr/local/lib/python3.7/dist-packages (from google-api-core<2.0.0dev,>=1.14.0->google-cloud-core<2.0dev,>=1.0.0->google-cloud-storage->gcsfs) (2018.9)\n",
            "Requirement already satisfied: pyparsing!=3.0.5,>=2.0.2 in /usr/local/lib/python3.7/dist-packages (from packaging>=14.3->google-api-core<2.0.0dev,>=1.14.0->google-cloud-core<2.0dev,>=1.0.0->google-cloud-storage->gcsfs) (3.0.6)\n",
            "Installing collected packages: multidict, frozenlist, yarl, asynctest, async-timeout, aiosignal, aiohttp, gcsfs\n",
            "Successfully installed aiohttp-3.8.1 aiosignal-1.2.0 async-timeout-4.0.1 asynctest-0.13.0 frozenlist-1.2.0 gcsfs-2021.11.1 multidict-5.2.0 yarl-1.7.2\n"
          ]
        }
      ]
    },
    {
      "cell_type": "code",
      "metadata": {
        "id": "blseUufQpYDZ",
        "colab": {
          "base_uri": "https://localhost:8080/"
        },
        "outputId": "0b95da85-a3c7-450d-b9a8-42b6c7609724"
      },
      "source": [
        "# Specify your GCP Project\n",
        "project_id = \"env617-grid-storage-project\"\n",
        "!gcloud config set project {project_id}\n",
        "magics.context.project = 'env617-grid-storage-project'\n",
        "auth.authenticate_user()"
      ],
      "execution_count": null,
      "outputs": [
        {
          "output_type": "stream",
          "name": "stdout",
          "text": [
            "Updated property [core/project].\n"
          ]
        }
      ]
    },
    {
      "cell_type": "code",
      "metadata": {
        "id": "29C_3y1-pgq_"
      },
      "source": [
        "%%bigquery egrid_unit\n",
        "SELECT\n",
        "  *\n",
        "FROM `env617-grid-storage-project.final_project.egrid_unit_data`"
      ],
      "execution_count": null,
      "outputs": []
    },
    {
      "cell_type": "code",
      "metadata": {
        "id": "T5D4wkwfYNOw"
      },
      "source": [
        "%%bigquery egrid \n",
        "SELECT\n",
        "  *\n",
        "FROM `env617-grid-storage-project.final_project.egrid_2019`"
      ],
      "execution_count": null,
      "outputs": []
    },
    {
      "cell_type": "code",
      "metadata": {
        "colab": {
          "base_uri": "https://localhost:8080/"
        },
        "id": "F5Ous2GzX5R7",
        "outputId": "10d8afb3-12c4-4cf5-978b-acb909bab6eb"
      },
      "source": [
        "peaking_plants = egrid[(egrid['PLFUELCT'] == 'GAS') & (egrid['CAPFAC'] > 0) & (egrid['CAPFAC'] < 0.2) & (egrid['SUBRGN'] == 'CAMX')]\n",
        "\n",
        "oris_array = peaking_plants['ORISPL']\n",
        "oris_array"
      ],
      "execution_count": null,
      "outputs": [
        {
          "output_type": "execute_result",
          "data": {
            "text/plain": [
              "721     10444\n",
              "722     10446\n",
              "728     58056\n",
              "1077      246\n",
              "1078      260\n",
              "        ...  \n",
              "1396    58607\n",
              "1429    61027\n",
              "1671    10439\n",
              "1672    10440\n",
              "1673    10441\n",
              "Name: ORISPL, Length: 119, dtype: int64"
            ]
          },
          "metadata": {},
          "execution_count": 73
        }
      ]
    },
    {
      "cell_type": "code",
      "metadata": {
        "id": "47rNgMkW3QIp"
      },
      "source": [
        "#unique key for Noah Mitchell-Ward for EPA FACT database API calls\n",
        "key = 'egvR36X9VdbggydMwJV0cMDkCWdKSfqWJh6GuDAJ'"
      ],
      "execution_count": null,
      "outputs": []
    },
    {
      "cell_type": "code",
      "metadata": {
        "id": "V2THNr6d__nH"
      },
      "source": [
        "fac_header = {\n",
        "  \"cache-control\": \"public,max-age=86400\",\n",
        "  \"content-type\": \"application/json; charset=utf-8\"\n",
        "}\n",
        "\n",
        "facilities_url = 'https://api.epa.gov/FACT/1.0/facilities?api_key=' + key\n",
        "f_r = requests.get(facilities_url, params={}, headers = fac_header).content\n",
        "f = json.loads(f_r)"
      ],
      "execution_count": null,
      "outputs": []
    },
    {
      "cell_type": "code",
      "metadata": {
        "id": "SF7umLoBEVRU"
      },
      "source": [
        "# list of all facilities EPA has data for\n",
        "epa_fact_oris = []\n",
        "\n",
        "for i in range(1772):\n",
        "  epa_fact_oris.append(f['data'][i]['orisCode'])"
      ],
      "execution_count": null,
      "outputs": []
    },
    {
      "cell_type": "code",
      "metadata": {
        "id": "u5aiwA1q7Uq-"
      },
      "source": [
        "# use only ORIS IDs that are in EPA FACT database\n",
        "oris_array = list(set(oris_array).intersection(epa_fact_oris))"
      ],
      "execution_count": null,
      "outputs": []
    },
    {
      "cell_type": "code",
      "metadata": {
        "colab": {
          "base_uri": "https://localhost:8080/"
        },
        "id": "ZrF1zTg_cAnp",
        "outputId": "28ad80b2-67bc-4137-89c7-dd8f7a15470e"
      },
      "source": [
        "oris_array"
      ],
      "execution_count": null,
      "outputs": [
        {
          "output_type": "execute_result",
          "data": {
            "text/plain": [
              "[55810,\n",
              " 260,\n",
              " 57482,\n",
              " 7307,\n",
              " 57483,\n",
              " 7693,\n",
              " 58122,\n",
              " 399,\n",
              " 400,\n",
              " 55951,\n",
              " 55698,\n",
              " 7315,\n",
              " 404,\n",
              " 56467,\n",
              " 56471,\n",
              " 56472,\n",
              " 7449,\n",
              " 10649,\n",
              " 10650,\n",
              " 55963,\n",
              " 56473,\n",
              " 56474,\n",
              " 56475,\n",
              " 10405,\n",
              " 422,\n",
              " 55847,\n",
              " 56232,\n",
              " 57001,\n",
              " 57515,\n",
              " 10156,\n",
              " 55853,\n",
              " 302,\n",
              " 55855,\n",
              " 56239,\n",
              " 55345,\n",
              " 10034,\n",
              " 7987,\n",
              " 50612,\n",
              " 57267,\n",
              " 10294,\n",
              " 10169,\n",
              " 315,\n",
              " 56639,\n",
              " 57027,\n",
              " 55748,\n",
              " 56135,\n",
              " 55112,\n",
              " 55625,\n",
              " 330,\n",
              " 55499,\n",
              " 55626,\n",
              " 55627,\n",
              " 335,\n",
              " 56143,\n",
              " 56914,\n",
              " 57555,\n",
              " 55508,\n",
              " 341,\n",
              " 55510,\n",
              " 55512,\n",
              " 55513,\n",
              " 57564,\n",
              " 54749,\n",
              " 350,\n",
              " 56803,\n",
              " 356,\n",
              " 10350,\n",
              " 55151,\n",
              " 54768,\n",
              " 55538,\n",
              " 55540,\n",
              " 55541,\n",
              " 246,\n",
              " 55542,\n",
              " 377,\n",
              " 55807]"
            ]
          },
          "metadata": {},
          "execution_count": 78
        }
      ]
    },
    {
      "cell_type": "code",
      "metadata": {
        "id": "tF6s-j54k7J7"
      },
      "source": [
        "# define years you want to pull data for\n",
        "year_array = [2019]\n",
        "\n",
        "# quarter array for loop\n",
        "quarter_array = [1,2,3,4]"
      ],
      "execution_count": null,
      "outputs": []
    },
    {
      "cell_type": "code",
      "metadata": {
        "id": "CSRZyLOegtUC"
      },
      "source": [
        "# set parameters for API call \n",
        "headers = {\n",
        "  \"content-type\": \"text/csv; charset=utf-8\"\n",
        "}\n",
        "\n",
        "dataset = \"hourlyData\"\n",
        "\n",
        "# test header\n",
        "test_header = {\n",
        "  \"content-type\": \"application/json; charset=utf-8\"\n",
        "}\n",
        "\n",
        "test_url = 'https://api.epa.gov/FACT/1.0/utility/check?api_key=' + key"
      ],
      "execution_count": null,
      "outputs": []
    },
    {
      "cell_type": "markdown",
      "metadata": {
        "id": "_r4CFvqhxuEZ"
      },
      "source": [
        "This section below pulls hourly data from specific monitoring locations at a given facility, and aggregates updwards by fiscal quarter, year, and then total plant output which sums output of all units at a facility."
      ]
    },
    {
      "cell_type": "code",
      "metadata": {
        "id": "SspXEOp9rpSc"
      },
      "source": [
        "#values to test EPA FACT API for presence of data of unit_id of interest\n",
        "# oris_array variable below should be commented out when not testing\n",
        "oris_array =  [10350,55151,54768,55538,55540,55541,246,55542,377,55807]\n",
        "test_year = '2019'\n",
        "# Q4 is used for testing quarter, as some plants have partial year data that stops being available in Q4\n",
        "test_quarter = '4'"
      ],
      "execution_count": null,
      "outputs": []
    },
    {
      "cell_type": "code",
      "metadata": {
        "id": "mszlsRSClh5C",
        "colab": {
          "base_uri": "https://localhost:8080/"
        },
        "outputId": "460eb54c-04d0-4a1f-fb44-b6d2a3f89994"
      },
      "source": [
        "for i in oris_array:\n",
        "  oris = str(i)\n",
        "  print(i)\n",
        "  # initializes unit counter for logic test within loop. For first unit, we need to set up a dataframe\n",
        "  unit_counter = 1\n",
        "  # pulls unit IDs for the given facility\n",
        "  unit_id = egrid_unit[egrid_unit.ORISPL == i].UNITID\n",
        "\n",
        "  # create hourly generation dataframe that individual unit output data will be appended to\n",
        "  gen_df = pd.DataFrame(columns = ['DateHour', 'HourLoad'])\n",
        "  \n",
        "  # create final output dataframe as sum of all unit output\n",
        "  final_df = pd.DataFrame(columns = ['DateHour','Total_Output_' + oris])\n",
        "\n",
        "  for j in unit_id:\n",
        "    locationId = str(j)\n",
        "\n",
        "    # check if unit is present in EPA FACT database. If not present, continue to next unit\n",
        "    call_url = 'https://api.epa.gov/FACT/1.0/emissions/' + dataset + '/csv/' + oris + '/' + locationId +'/' + test_year + '/' + test_quarter + '?api_key=' + key\n",
        "    r_test = requests.get(call_url, params={}, headers = headers)\n",
        "    if r_test.status_code != 200:\n",
        "      continue  #skips the rest of the current unit_id loop interation, moves to the next iteration\n",
        "    \n",
        "    # create dataframe for individual unit data, resets every unit\n",
        "    unit_df = pd.DataFrame(columns = ['DateHour','HourLoad'])\n",
        "    \n",
        "    for y in year_array:\n",
        "      year = str(y)\n",
        "      \n",
        "      for q in quarter_array:\n",
        "        quarter = str(q)\n",
        "        \n",
        "        # EPA FACT API call, using variables set above\n",
        "        call_url = 'https://api.epa.gov/FACT/1.0/emissions/' + dataset + '/csv/' + oris + '/' + locationId +'/' + year + '/' + quarter + '?api_key=' + key\n",
        "        r = requests.get(call_url, params={}, headers = headers).content\n",
        "        # conversion from csv UTF-8 format to dataframe\n",
        "        raw_EPA_data = pd.read_csv(io.StringIO(r.decode('utf-8')))\n",
        "        \n",
        "        # first unit sets up the dataframe with the DateHours, subsequent units add to it\n",
        "        if unit_counter == 1:\n",
        "          gen_df = gen_df.append(raw_EPA_data[['DateHour','HourLoad']])\n",
        "        else:\n",
        "          unit_df = unit_df.append(raw_EPA_data[['DateHour','HourLoad']])\n",
        "    \n",
        "    #creating new row with new unit hourly data in gen_df\n",
        "    unit_df.rename({'HourLoad': 'HourLoad_%s'%j}, axis=1, inplace=True)\n",
        "    \n",
        "    if unit_counter > 1:\n",
        "      gen_df = gen_df.merge(unit_df, how='left', on='DateHour')\n",
        "    #updates unit counter for test of how many columns of data to put into gen_df\n",
        "    unit_counter = unit_counter + 1\n",
        "  \n",
        "  # assigning sum of all unit outputs to new timestamped dataframe, save as .csv\n",
        "  final_df['DateHour'] = gen_df['DateHour']\n",
        "  final_df['Total_Output_' + oris] = gen_df.sum(axis=1)\n",
        "\n",
        "  # output saved to Google Cloud storage, name is tagged with plant ORIS ID\n",
        "  final_df.to_csv('gs://final_project_raw_data/test_output_2/total_output_%s.csv'%i, index=False)"
      ],
      "execution_count": null,
      "outputs": [
        {
          "output_type": "stream",
          "name": "stdout",
          "text": [
            "10350\n",
            "55151\n",
            "54768\n",
            "55538\n",
            "55540\n",
            "55541\n",
            "246\n",
            "55542\n",
            "377\n",
            "55807\n"
          ]
        }
      ]
    },
    {
      "cell_type": "markdown",
      "metadata": {
        "id": "6rj0ZKthzL9h"
      },
      "source": [
        "Filtering steps: \n",
        "1. Fuel type (gas)\n",
        "2. Capacity Factor\n",
        "3. Max output\n",
        "4. Hourly dispatch\n",
        "5. Density of peaking events (does battery have enough time to charge before next discharge event? Could make assumptions about how long battery needs to charge between events)\n",
        "6. Additional filters based on battery parameters?\n",
        "\n",
        "TODO\n",
        "Pull csvs from google cloud\n",
        "filter with above steps\n",
        "Additional filtering step\n"
      ]
    },
    {
      "cell_type": "code",
      "metadata": {
        "id": "GxaDOyUqzPBY",
        "colab": {
          "base_uri": "https://localhost:8080/",
          "height": 283
        },
        "outputId": "c237d05e-260f-410f-83e2-43cc8abf2dc6"
      },
      "source": [
        "final_df.plot()"
      ],
      "execution_count": null,
      "outputs": [
        {
          "output_type": "execute_result",
          "data": {
            "text/plain": [
              "<matplotlib.axes._subplots.AxesSubplot at 0x7fa0106921d0>"
            ]
          },
          "metadata": {},
          "execution_count": 130
        },
        {
          "output_type": "display_data",
          "data": {
            "image/png": "[encoded data removed]",
            "text/plain": [
              "<Figure size 432x288 with 1 Axes>"
            ]
          },
          "metadata": {
            "needs_background": "light"
          }
        }
      ]
    }
  ]
}